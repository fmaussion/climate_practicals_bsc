{
 "cells": [
  {
   "cell_type": "markdown",
   "metadata": {},
   "source": [
    "# Group project: the Climate System"
   ]
  },
  {
   "cell_type": "markdown",
   "metadata": {},
   "source": [
    "## Instructions\n",
    "\n",
    "**Objectives**\n",
    "\n",
    "In this final project, you will apply the methods you learned over the past weeks to answer the questions below.\n",
    "\n",
    "**Deadline**\n",
    "\n",
    "Please submit your project via OLAT before **Thursday January 12 at 00H** (in the night from Wednesday to Thursday).\n",
    "\n",
    "**Formal requirements**\n",
    "\n",
    "You will work in groups of two. If we are an odd number of students, one group can have three participants. *(Tip: I recommend that students who have not followed my programming class to team up with students who have)*.\n",
    "\n",
    "Each group will submit one (executed) jupyter notebook containing the code, plots, and answers to the questions (text in the markdown format). Please also submit an HTML version of the notebook. Each group member must contribute to the notebook. The notebook should be self-contained and the answers must be well structured. The plots must be as understandable as possible (title, units, x and y axis labels, appropriate colors and levels…). \n",
    "\n",
    "Please be concise in your answer. I expect a few sentences per answer at most - there is no need to write a new text book in this project! Use links and references to the literature or your class slides where appropriate.\n",
    "\n",
    "**Grading**\n",
    "\n",
    "I will give one grade per project, according to the following table (total 10 points):\n",
    "- correctness of the code and the plots: content, legends, colors, units, etc. (3 points)\n",
    "- quality of the answers: correctness, preciseness, appropriate use of links and references to literature or external resources (5 points)\n",
    "- originality and quality of the open research question (2 points)"
   ]
  },
  {
   "cell_type": "code",
   "execution_count": null,
   "metadata": {},
   "outputs": [],
   "source": [
    "# Import the tools we are going to need today:\n",
    "import matplotlib.pyplot as plt  # plotting library\n",
    "import numpy as np  # numerical library\n",
    "import xarray as xr  # netCDF library\n",
    "import pandas as pd  # tabular library\n",
    "import cartopy  # Map projections libary\n",
    "import cartopy.crs as ccrs  # Projections list\n",
    "# Some defaults:\n",
    "plt.rcParams['figure.figsize'] = (12, 5)  # Default plot size"
   ]
  },
  {
   "cell_type": "markdown",
   "metadata": {},
   "source": [
    "## Part 1 - temperature climatology"
   ]
  },
  {
   "cell_type": "markdown",
   "metadata": {},
   "source": [
    "Open the ERA5 temperature data:"
   ]
  },
  {
   "cell_type": "code",
   "execution_count": null,
   "metadata": {},
   "outputs": [],
   "source": [
    "ds = xr.open_dataset('../data/ERA5_LowRes_Monthly_t2m.nc')"
   ]
  },
  {
   "cell_type": "markdown",
   "metadata": {},
   "source": [
    "Plot three global maps:\n",
    "- Compute and plot the temporal mean temperature $\\overline{T}$ for the entire period (unit °C)\n",
    "- Compute and plot $\\overline{T^{*}}$ (see lesson), the zonal anomaly map of average temperature.\n",
    "- Compute the monthly average temperature for each month $\\overline{T_M}$ (annual cycle). I expect a variable of dimensions (month: 12, latitude: 241, longitude: 480). *Hint: remember the ``.groupby()`` command we learned in the lesson.* Now plot the average monthly temperature range, i.e. $\\overline{T_M}max$ - $\\overline{T_M}min$ on a map. \n",
    "\n",
    "**Questions**:\n",
    "1. Look at the zonal temperature anomaly map. \n",
    "    - Explain why norther Europe and the North Atlantic region is significantly warmer than the same latitudes in North America or Russia. \n",
    "    - Explain why the Northern Pacific Ocean does not have a similar pattern.\n",
    "2. Look at the average monthly temperature range map.\n",
    "    - Explain why the temperature range is smaller in the tropics than at higher latitudes\n",
    "    - Explain why the temperature range is smaller over oceans than over land\n",
    "    - Where is the temperature range largest? Explain why."
   ]
  },
  {
   "cell_type": "code",
   "execution_count": null,
   "metadata": {},
   "outputs": [],
   "source": [
    "# Your answers here"
   ]
  },
  {
   "cell_type": "markdown",
   "metadata": {},
   "source": [
    "## Part 2 - Precipitation climatology"
   ]
  },
  {
   "cell_type": "markdown",
   "metadata": {},
   "source": [
    "Open the precipitation file and explore it. The units of monthly precipitation are wrongly labeled (unfortunately). They should read: **m per day**."
   ]
  },
  {
   "cell_type": "code",
   "execution_count": null,
   "metadata": {},
   "outputs": [],
   "source": [
    "ds = xr.open_dataset('../data/ERA5_LowRes_Monthly_tp.nc')"
   ]
  },
  {
   "cell_type": "markdown",
   "metadata": {},
   "source": [
    "Using `.groupby()`, compute the average daily precipitation for each month of the year (I expect a variable of dimensions (month: 12, latitude: 241, longitude: 480)). Convert the units to **mm per day**. Plot a map of average daily precipitation in January and in August with the levels `[0.5, 1, 2, 3, 4, 5, 7, 10, 15, 20, 40]` and the colormap `YlGnBu'\n",
    "\n",
    "**Questions**:\n",
    "1. Describe the location of the ITCZ in January and February. Without going into the details, explain (in one or two sentences)\n",
    "2. Describe the precipitation seasonality in West Africa and in India. Name the phenomenon at play."
   ]
  },
  {
   "cell_type": "code",
   "execution_count": null,
   "metadata": {},
   "outputs": [],
   "source": [
    "# Your answers here"
   ]
  },
  {
   "cell_type": "markdown",
   "metadata": {},
   "source": [
    "## Part 3: sea-level pressure and surface winds  "
   ]
  },
  {
   "cell_type": "markdown",
   "metadata": {},
   "source": [
    "Open the file containing the surface winds (`u10` and `v10`) and sea-level pressure (`msl`)."
   ]
  },
  {
   "cell_type": "code",
   "execution_count": null,
   "metadata": {},
   "outputs": [],
   "source": [
    "ds = xr.open_dataset('../data/ERA5_LowRes_MonthlyAvg_uvslp.nc')"
   ]
  },
  {
   "cell_type": "markdown",
   "metadata": {},
   "source": [
    "Compute $\\left[ \\overline{SLP} \\right]$ (the temporal and zonal average of sea-level pressure). Convert it to hPa, and plot it (line plot). With the help of [plt.axhline](http://matplotlib.org/api/pyplot_api.html#matplotlib.pyplot.axhline), add the [standard atmosphere pressure](https://en.wikipedia.org/wiki/Atmospheric_pressure#Standard_atmospheric) line to the plot to emphasize high and low pressure regions. Repeat with $\\left[ \\overline{u_{10}} \\right]$ and $\\left[ \\overline{v_{10}} \\right]$ (in m s$^{-1}$) and add the 0 horizontal line to the plot (to detect surface westerlies from easterlies for example).\n",
    "\n",
    "**Questions**:\n",
    "1. Based on your knowledge about the general circulation of the atmosphere, explain the latitude location of the climatological high and low pressure systems of Earth.\n",
    "2. Similarly, explain the direction and strength of the zonal and meridional winds on earth (*tip: the sea-level pressure plot helps*) "
   ]
  },
  {
   "cell_type": "code",
   "execution_count": null,
   "metadata": {},
   "outputs": [],
   "source": [
    "# Your answers here"
   ]
  },
  {
   "cell_type": "markdown",
   "metadata": {},
   "source": [
    "## Part 4: temperature change and CO$_2$ concentrations"
   ]
  },
  {
   "cell_type": "markdown",
   "metadata": {},
   "source": [
    "Download the [global average CO$_2$ concentration timeseries](https://gml.noaa.gov/webdata/ccgg/trends/co2/co2_mm_gl.csv) data in the CSV format (source: [NOAA](https://gml.noaa.gov/ccgg/trends/gl_data.html)). Here, let me help your read them using pandas:"
   ]
  },
  {
   "cell_type": "code",
   "execution_count": null,
   "metadata": {},
   "outputs": [],
   "source": [
    "df = pd.read_csv('co2_mm_gl.csv', skiprows=55, dtype={'year':str, 'month':str})\n",
    "df['date'] = pd.to_datetime(df.pop('year') + df.pop('month'), format=\"%Y%m\")\n",
    "df = df.set_index('date')"
   ]
  },
  {
   "cell_type": "markdown",
   "metadata": {},
   "source": [
    "Prepare three plots:\n",
    "- plot the monthly global CO$_2$ concentration as a function of time.\n",
    "- plot the annual average timeseries of global CO$_2$ concentration as a function of time.\n",
    "- plot the annual average timeseries of global CO$_2$ concentration and of global 2m temperature from ERA5 on the same plot (using a secondary y axis for temperature).\n",
    "\n",
    "\n",
    "**Questions**:\n",
    "1. Describe and explain the annual cycle of CO$_2$ concentrations\n",
    "2. What was the CO$_2$ concentration in the atmosphere in the pre-industrial era? Compute the annual increase in CO$_2$ concentration (unit: ppm per year) between 1980 and 1985 and between 2016 and 2021.\n",
    "3. Describe the relationship between global temperatures and CO$_2$ concentrations. Beside CO$_2$, name three processes that can influence temperature variability and change at the global scale. "
   ]
  },
  {
   "cell_type": "code",
   "execution_count": null,
   "metadata": {},
   "outputs": [],
   "source": [
    "# Your answers here"
   ]
  },
  {
   "cell_type": "markdown",
   "metadata": {},
   "source": [
    "## Part 5: variability and ENSO (open research question)"
   ]
  },
  {
   "cell_type": "markdown",
   "metadata": {},
   "source": [
    "Using the [available data](http://fabienmaussion.info/climate_practicals_bsc/download.html), describe the global effect of an El Niño year and a La Niña year on sea-surface temperature, precipitation, and air temperature. I suggest to look for literature or a google search on strong ENSO events in the past 40 years, and select one good example for a positive and a negative phase. Then use annual or seasonal anomaly maps to show the patterns of SST, temperature and precipitation anomalies during these events. With citation or links, explain why you picked these years as examples."
   ]
  },
  {
   "cell_type": "code",
   "execution_count": null,
   "metadata": {},
   "outputs": [],
   "source": [
    "# Your answers here"
   ]
  },
  {
   "cell_type": "code",
   "execution_count": null,
   "metadata": {},
   "outputs": [],
   "source": []
  }
 ],
 "metadata": {
  "hide_input": false,
  "kernelspec": {
   "display_name": "Python 3 (ipykernel)",
   "language": "python",
   "name": "python3"
  },
  "language_info": {
   "codemirror_mode": {
    "name": "ipython",
    "version": 3
   },
   "file_extension": ".py",
   "mimetype": "text/x-python",
   "name": "python",
   "nbconvert_exporter": "python",
   "pygments_lexer": "ipython3",
   "version": "3.12.4"
  },
  "latex_envs": {
   "LaTeX_envs_menu_present": true,
   "autoclose": false,
   "autocomplete": true,
   "bibliofile": "biblio.bib",
   "cite_by": "apalike",
   "current_citInitial": 1,
   "eqLabelWithNumbers": true,
   "eqNumInitial": 1,
   "hotkeys": {
    "equation": "Ctrl-E",
    "itemize": "Ctrl-I"
   },
   "labels_anchors": false,
   "latex_user_defs": false,
   "report_style_numbering": false,
   "user_envs_cfg": false
  },
  "nbTranslate": {
   "displayLangs": [
    "*"
   ],
   "hotkey": "alt-t",
   "langInMainMenu": true,
   "sourceLang": "en",
   "targetLang": "fr",
   "useGoogleTranslate": true
  },
  "toc": {
   "base_numbering": 1,
   "nav_menu": {},
   "number_sections": false,
   "sideBar": true,
   "skip_h1_title": true,
   "title_cell": "Table of Contents",
   "title_sidebar": "Contents",
   "toc_cell": false,
   "toc_position": {},
   "toc_section_display": true,
   "toc_window_display": false
  }
 },
 "nbformat": 4,
 "nbformat_minor": 4
}
