{
 "cells": [
  {
   "cell_type": "markdown",
   "metadata": {},
   "source": [
    "# Downloading the data"
   ]
  },
  {
   "cell_type": "markdown",
   "metadata": {},
   "source": [
    "All data files used in the lecture are available on [this webserver](https://cluster.klima.uni-bremen.de/~fmaussion/teaching/climate/)."
   ]
  },
  {
   "cell_type": "markdown",
   "metadata": {},
   "source": [
    "## CERES Data "
   ]
  },
  {
   "cell_type": "markdown",
   "metadata": {},
   "source": [
    "For Week 02, we will use climatological data from the [CERES](https://climatedataguide.ucar.edu/climate-data/ceres-ebaf-clouds-and-earths-radiant-energy-systems-ceres-energy-balanced-and-filled) (Clouds and the Earth's Radiant Energy System) mission. We are going to use the EBAF-TOA and the EBAF-Surface data products (both freely available [on this webpage](https://ceres.larc.nasa.gov/data/)) as climatologies (i.e. monthly averages 2005-2015). \n",
    "\n",
    "The data quality summary of these data (PDF) can be found [here](https://ceres.larc.nasa.gov/documents/DQ_summaries/CERES_EBAF_Ed4.1_DQS.pdf), and more accessible publications can be found [here for TOA](https://journals.ametsoc.org/doi/pdf/10.1175/JCLI-D-17-0208.1) and [here for Surface](https://journals.ametsoc.org/doi/pdf/10.1175/JCLI-D-17-0523.1).\n",
    "\n",
    "**Download:**\n",
    "- TOA file: [CERES_EBAF-TOA_Ed4.1_Clim-2005-2015.nc](https://cluster.klima.uni-bremen.de/~fmaussion/teaching/climate/CERES_EBAF-TOA_Ed4.1_Clim-2005-2015.nc)\n",
    "- Surface file: [CERES_EBAF-Surface_Ed4.1_Clim-2005-2015.nc](https://cluster.klima.uni-bremen.de/~fmaussion/teaching/climate/CERES_EBAF-Surface_Ed4.1_Clim-2005-2015.nc)"
   ]
  },
  {
   "cell_type": "markdown",
   "metadata": {},
   "source": [
    "## ERA5 data "
   ]
  },
  {
   "cell_type": "markdown",
   "metadata": {},
   "source": [
    "[ERA5](https://www.ecmwf.int/en/forecasts/datasets/reanalysis-datasets/era5) is an atmospheric reanalysis product.\n",
    "\n",
    "**Invariant:**\n",
    "- [ERA5_LowRes_Invariant.nc](https://cluster.klima.uni-bremen.de/~fmaussion/teaching/climate/ERA5_LowRes_Invariant.nc)\n",
    "\n",
    "**Monthly surface (3D) data:**\n",
    "- [ERA5_LowRes_Monthly_t2m.nc](https://cluster.klima.uni-bremen.de/~fmaussion/teaching/climate/ERA5_LowRes_Monthly_t2m.nc): 2m temperature\n",
    "- [ERA5_LowRes_Monthly_tp.nc](https://cluster.klima.uni-bremen.de/~fmaussion/teaching/climate/ERA5_LowRes_Monthly_tp.nc): total precipitation\n",
    "- [ERA5_LowRes_Monthly_seaice.nc](https://cluster.klima.uni-bremen.de/~fmaussion/teaching/climate/ERA5_LowRes_Monthly_seaice.nc): sea ice cover\n",
    "- [ERA5_LowRes_Monthly_snow.nc](https://cluster.klima.uni-bremen.de/~fmaussion/teaching/climate/ERA5_LowRes_Monthly_snow.nc): snow cover\n",
    "- [ERA5_LowRes_Monthly_uvslp.nc](https://cluster.klima.uni-bremen.de/~fmaussion/teaching/climate/ERA5_LowRes_Monthly_uvslp.nc): `u`, `v`, `slp`\n",
    "- [ERA5_LowRes_Monthly_sst.nc](https://cluster.klima.uni-bremen.de/~fmaussion/teaching/climate/ERA5_LowRes_Monthly_sst.nc): sea surface temperatures\n",
    "- [ERA5_LowRes_Monthly_eb.nc](https://cluster.klima.uni-bremen.de/~fmaussion/teaching/climate/ERA5_LowRes_Monthly_eb.nc): energy balance terms"
   ]
  },
  {
   "cell_type": "markdown",
   "metadata": {},
   "source": [
    "## Reading data from an url"
   ]
  },
  {
   "cell_type": "markdown",
   "metadata": {},
   "source": [
    "You can also open files without downloading them locally. This is somehow inefficient (it will download all data in memory each time you run the notebook), but might be useful e.g. on MyBinder where you can't store files. You will need the `h5netcdf` library to be installed for the following to work:"
   ]
  },
  {
   "cell_type": "code",
   "execution_count": null,
   "metadata": {},
   "outputs": [],
   "source": [
    "import xarray as xr\n",
    "import urllib, io\n",
    "\n",
    "url = 'https://cluster.klima.uni-bremen.de/~fmaussion/teaching/climate/ERA5_LowRes_Invariant.nc'\n",
    "\n",
    "req = urllib.request.Request(url)\n",
    "with urllib.request.urlopen(req) as resp:\n",
    "    ds = xr.open_dataset(io.BytesIO(resp.read()))\n",
    "\n",
    "ds"
   ]
  },
  {
   "cell_type": "code",
   "execution_count": null,
   "metadata": {},
   "outputs": [],
   "source": []
  }
 ],
 "metadata": {
  "kernelspec": {
   "display_name": "Python 3 (ipykernel)",
   "language": "python",
   "name": "python3"
  },
  "language_info": {
   "codemirror_mode": {
    "name": "ipython",
    "version": 3
   },
   "file_extension": ".py",
   "mimetype": "text/x-python",
   "name": "python",
   "nbconvert_exporter": "python",
   "pygments_lexer": "ipython3",
   "version": "3.10.6"
  }
 },
 "nbformat": 4,
 "nbformat_minor": 4
}
